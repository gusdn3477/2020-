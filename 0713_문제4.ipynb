{
 "cells": [
  {
   "cell_type": "code",
   "execution_count": 15,
   "metadata": {},
   "outputs": [
    {
     "name": "stdout",
     "output_type": "stream",
     "text": [
      "10진수 데이터 입력? 1000\n",
      "원하는 진법 입력? 2\n",
      "1111101000\n"
     ]
    }
   ],
   "source": [
    "i = 0\n",
    "z = ''\n",
    "x = int(input('10진수 데이터 입력? '))\n",
    "y = int(input('원하는 진법 입력? '))\n",
    "    \n",
    "if(x == 0 or y == 0):\n",
    "    print('=== EOF ===')\n",
    "    \n",
    "while x > 0:\n",
    "    z = str(x%y) + z\n",
    "    x = x//y\n",
    "    \n",
    "print(z)"
   ]
  },
  {
   "cell_type": "code",
   "execution_count": null,
   "metadata": {},
   "outputs": [],
   "source": []
  }
 ],
 "metadata": {
  "kernelspec": {
   "display_name": "Python 3",
   "language": "python",
   "name": "python3"
  },
  "language_info": {
   "codemirror_mode": {
    "name": "ipython",
    "version": 3
   },
   "file_extension": ".py",
   "mimetype": "text/x-python",
   "name": "python",
   "nbconvert_exporter": "python",
   "pygments_lexer": "ipython3",
   "version": "3.7.6"
  }
 },
 "nbformat": 4,
 "nbformat_minor": 4
}
