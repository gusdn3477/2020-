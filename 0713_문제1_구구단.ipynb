{
 "cells": [
  {
   "cell_type": "code",
   "execution_count": null,
   "metadata": {},
   "outputs": [],
   "source": [
    "import random\n",
    "\n",
    "x = random.randrange(1,101)\n",
    "\n",
    "while True:\n",
    "    \n",
    "    print('숫자를 맞춰보세요(1-100)')\n",
    "    y = int(input())\n",
    "    if y > x:\n",
    "        print('숫자가 너무 큽니다.')\n",
    "    elif y < x:\n",
    "        print('숫자가 너무 작습니다')\n",
    "    else:\n",
    "        print('정답입니다. 입력한 숫자는 {0}입니다'.format(y))\n",
    "        break"
   ]
  }
 ],
 "metadata": {
  "kernelspec": {
   "display_name": "Python 3",
   "language": "python",
   "name": "python3"
  },
  "language_info": {
   "codemirror_mode": {
    "name": "ipython",
    "version": 3
   },
   "file_extension": ".py",
   "mimetype": "text/x-python",
   "name": "python",
   "nbconvert_exporter": "python",
   "pygments_lexer": "ipython3",
   "version": "3.7.6"
  }
 },
 "nbformat": 4,
 "nbformat_minor": 4
}
