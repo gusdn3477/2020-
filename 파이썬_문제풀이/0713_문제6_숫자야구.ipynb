{
 "cells": [
  {
   "cell_type": "code",
   "execution_count": 1,
   "metadata": {},
   "outputs": [
    {
     "name": "stdout",
     "output_type": "stream",
     "text": [
      "숫자 야구 게임\n",
      " 규칙 : 1 에서 9 사이 안 겹치는 숫자 3 개 입력 \n",
      "숫자 입력 : 123\n",
      "1 스트라이크  0 볼\n",
      "숫자 입력 : 456\n",
      "0 스트라이크  2 볼\n",
      "숫자 입력 : 149\n",
      "1 스트라이크  1 볼\n",
      "숫자 입력 : 132\n",
      "1 스트라이크  0 볼\n",
      "숫자 입력 : 156\n",
      "1 스트라이크  1 볼\n",
      "숫자 입력 : 176\n",
      "1 스트라이크  1 볼\n",
      "숫자 입력 : 186\n",
      "1 스트라이크  1 볼\n",
      "숫자 입력 : 198\n",
      "1 스트라이크  0 볼\n",
      "숫자 입력 : 167\n",
      "2 스트라이크  0 볼\n",
      "숫자 입력 : 164\n",
      "3 스트라이크  0 볼\n",
      "-----\n",
      "10 번 만에 정답!!\n",
      "Do you want on more game (Yes/no)?no\n"
     ]
    }
   ],
   "source": [
    "import random\n",
    "\n",
    "while True:\n",
    "    pt= random.sample ( range(1, 10), 3)\n",
    "    tr_cnt = 0\n",
    "    st_cnt = 0\n",
    "    bl_cnt = 0\n",
    "    exitGame = \"N\"\n",
    "    \n",
    "    print(\"숫자 야구 게임\")\n",
    "    print(\"규칙 : 1 에서 9 사이 안 겹치는 숫자 3 개 입력 \")\n",
    "\n",
    "    while(st_cnt < 3):\n",
    "        num = input(\"숫자 입력 : \")\n",
    "        if num == \"0\" :\n",
    "            exitGame = \"Y\"\n",
    "            break\n",
    "    \n",
    "        if not( num.isdecimal() ):\n",
    "            print(\"숫자를 입력하세요!!!\")\n",
    "            continue\n",
    "        \n",
    "        if len( num ) != 3:\n",
    "            print(\"세 자리 숫자를 입력하세요\")\n",
    "            continue\n",
    "        st_cnt = 0\n",
    "        bl_cnt = 0\n",
    "        for i in range( 0, 3 ):\n",
    "            for j in range( 0, 3 ):\n",
    "                if( num[i] == str( pt[j] ) and i == j ): st_cnt +=1\n",
    "                elif( num[i] == str( pt[j] ) and i != j ): bl_cnt += 1\n",
    "        print( st_cnt, \"스트라이크 \", bl_cnt, \"볼\")\n",
    "        tr_cnt += 1\n",
    "    \n",
    "    if exitGame == \"N\":\n",
    "        print(\"-----\")\n",
    "        print(tr_cnt , \"번 만에 정답!!\")\n",
    "        moreGame = input('Do you want on more game (Yes/no)?')\n",
    "        while(moreGame != \"Yes\" and moreGame != \"no\"):\n",
    "            print(\"You must input either Yes or No!!!\")\n",
    "            if moreGame == \"no\" : \n",
    "                break \n",
    "            else: \n",
    "                break\n",
    "    break"
   ]
  },
  {
   "cell_type": "code",
   "execution_count": null,
   "metadata": {},
   "outputs": [],
   "source": []
  }
 ],
 "metadata": {
  "kernelspec": {
   "display_name": "Python 3",
   "language": "python",
   "name": "python3"
  },
  "language_info": {
   "codemirror_mode": {
    "name": "ipython",
    "version": 3
   },
   "file_extension": ".py",
   "mimetype": "text/x-python",
   "name": "python",
   "nbconvert_exporter": "python",
   "pygments_lexer": "ipython3",
   "version": "3.7.6"
  }
 },
 "nbformat": 4,
 "nbformat_minor": 4
}
