{
 "cells": [
  {
   "cell_type": "code",
   "execution_count": 6,
   "metadata": {},
   "outputs": [
    {
     "name": "stdout",
     "output_type": "stream",
     "text": [
      "학생 수를 입력하세요 :2\n",
      "과목 수를 입력하세요 :2\n",
      "\n",
      "====== 1 번 학생 ======\n",
      "=== 1 번 과목 ===\n",
      "10\n",
      "=== 2 번 과목 ===\n",
      "20\n",
      "\n",
      "====== 2 번 학생 ======\n",
      "=== 1 번 과목 ===\n",
      "20\n",
      "=== 2 번 과목 ===\n",
      "30\n",
      "\n",
      "===== 1 번 학생 성적 =====\n",
      "과목 1 : 10\n",
      "평균 : : 20\n",
      "과목 2 : 20\n",
      "평균 : : 15.0\n",
      "\n",
      "===== 2 번 학생 성적 =====\n",
      "과목 1 : 20\n",
      "평균 : : 30\n",
      "과목 2 : 30\n",
      "평균 : : 25.0\n",
      "\n",
      "===================== 과목별 평균 성적 =================\n",
      "1번 과목의 평균 성적 : 15.0000\n",
      "2번 과목의 평균 성적 : 25.0000\n"
     ]
    }
   ],
   "source": [
    "test_result = []\n",
    "student_num = int(input('학생 수를 입력하세요 :'))\n",
    "subject_num = int(input('과목 수를 입력하세요 :'))\n",
    "\n",
    "for student in range(student_num):\n",
    "    student_info = []\n",
    "    total = 0\n",
    "    print('\\n======', student+1, '번 학생 ======')\n",
    "    \n",
    "    for subject in range(subject_num):\n",
    "        print('===', subject+1, '번 과목 ===')\n",
    "        point = int(input())\n",
    "        student_info.append(point)\n",
    "        total += point\n",
    "        \n",
    "    student_info.append(total/subject_num)\n",
    "    test_result.insert(student, student_info)\n",
    "    \n",
    "for final in range(student_num):\n",
    "    print('\\n=====', final +1, '번 학생 성적 =====')\n",
    "        \n",
    "    for final_subject in range(subject_num):\n",
    "        print('과목', final_subject+1, ':', test_result[final][final_subject])\n",
    "        print('평균 : :', test_result[final][final_subject+1])\n",
    "        \n",
    "print('\\n===================== 과목별 평균 성적 =================')\n",
    "for final_subject in range(subject_num):\n",
    "    total = 0\n",
    "    \n",
    "    for final in range(student_num):\n",
    "        total += test_result[final][final_subject]\n",
    "        \n",
    "    print('%d번 과목의 평균 성적 : %.4f' %(final_subject+1, total/student_num))\n",
    "        #print('과목', final_subject +1, '번 평균 성적 :', total/student_num)"
   ]
  },
  {
   "cell_type": "code",
   "execution_count": null,
   "metadata": {},
   "outputs": [],
   "source": []
  }
 ],
 "metadata": {
  "kernelspec": {
   "display_name": "Python 3",
   "language": "python",
   "name": "python3"
  },
  "language_info": {
   "codemirror_mode": {
    "name": "ipython",
    "version": 3
   },
   "file_extension": ".py",
   "mimetype": "text/x-python",
   "name": "python",
   "nbconvert_exporter": "python",
   "pygments_lexer": "ipython3",
   "version": "3.7.6"
  }
 },
 "nbformat": 4,
 "nbformat_minor": 4
}
