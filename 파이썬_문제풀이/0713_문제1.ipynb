{
 "cells": [
  {
   "cell_type": "code",
   "execution_count": 1,
   "metadata": {},
   "outputs": [
    {
     "name": "stdout",
     "output_type": "stream",
     "text": [
      "숫자를 맞춰보세요(1-100)\n",
      "100\n",
      "숫자가 너무 큽니다.\n",
      "숫자를 맞춰보세요(1-100)\n",
      "50\n",
      "숫자가 너무 작습니다\n",
      "숫자를 맞춰보세요(1-100)\n",
      "75\n",
      "숫자가 너무 작습니다\n",
      "숫자를 맞춰보세요(1-100)\n",
      "90\n",
      "숫자가 너무 작습니다\n",
      "숫자를 맞춰보세요(1-100)\n",
      "95\n",
      "숫자가 너무 작습니다\n",
      "숫자를 맞춰보세요(1-100)\n",
      "99\n",
      "숫자가 너무 큽니다.\n",
      "숫자를 맞춰보세요(1-100)\n",
      "100\n",
      "숫자가 너무 큽니다.\n",
      "숫자를 맞춰보세요(1-100)\n",
      "98\n",
      "정답입니다. 입력한 숫자는 98입니다\n"
     ]
    }
   ],
   "source": [
    "import random\n",
    "\n",
    "x = random.randrange(1,101)\n",
    "\n",
    "while True:\n",
    "    \n",
    "    print('숫자를 맞춰보세요(1-100)')\n",
    "    y = int(input())\n",
    "    if y > x:\n",
    "        print('숫자가 너무 큽니다.')\n",
    "    elif y < x:\n",
    "        print('숫자가 너무 작습니다')\n",
    "    else:\n",
    "        print('정답입니다. 입력한 숫자는 {0}입니다'.format(y))\n",
    "        break"
   ]
  }
 ],
 "metadata": {
  "kernelspec": {
   "display_name": "Python 3",
   "language": "python",
   "name": "python3"
  },
  "language_info": {
   "codemirror_mode": {
    "name": "ipython",
    "version": 3
   },
   "file_extension": ".py",
   "mimetype": "text/x-python",
   "name": "python",
   "nbconvert_exporter": "python",
   "pygments_lexer": "ipython3",
   "version": "3.7.6"
  }
 },
 "nbformat": 4,
 "nbformat_minor": 4
}
