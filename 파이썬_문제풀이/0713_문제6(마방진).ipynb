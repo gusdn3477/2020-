{
 "cells": [
  {
   "cell_type": "code",
   "execution_count": 3,
   "metadata": {},
   "outputs": [
    {
     "name": "stdout",
     "output_type": "stream",
     "text": [
      "마방진을 위한 숫자를 입력하세요 : (홀수만)5\n",
      "17 24  1  8 15 \n",
      "23  5  7 14 16 \n",
      " 4  6 13 20 22 \n",
      "10 12 19 21  3 \n",
      "11 18 25  2  9 \n"
     ]
    }
   ],
   "source": [
    "n = int(input('마방진을 위한 숫자를 입력하세요 : (홀수만)'))\n",
    "arr = []\n",
    "arr2 = []\n",
    "if(n%2 == 1):\n",
    "    for i in range(n):\n",
    "        arr.append([0] * n)\n",
    "\n",
    "    sx = 0\n",
    "    sy = int(n/2)\n",
    "    arr[sx][sy] = 1\n",
    "\n",
    "    x = 0\n",
    "    y = 0\n",
    "\n",
    "    for i in range(2,n*n+1):\n",
    "        x = sx\n",
    "        y = sy\n",
    "\n",
    "        sx -=1\n",
    "        sy +=1\n",
    "        if(sx<0) : sx = n-1\n",
    "        if(sy>n-1) : sy = 0\n",
    "\n",
    "        if(arr[sx][sy] == 0):\n",
    "            arr[sx][sy] = i\n",
    "\n",
    "        else:\n",
    "            sx = x +1\n",
    "            sy = y\n",
    "            arr[sx][sy] = i\n",
    "\n",
    "    for i in range(0,n):\n",
    "        for j in range(0,n):\n",
    "            print(\"%2d\" %arr[i][j], end = \" \")\n",
    "        print()\n",
    "\n",
    "else:\n",
    "    cnt = 1\n",
    "    for i in range(n):\n",
    "        arr.append([0] * n)\n",
    "        \n",
    "    for i in range(0,n):\n",
    "        for j in range(0,n):\n",
    "            if(i == j):\n",
    "                arr[i][j] = cnt\n",
    "            elif(i+j == n-1):\n",
    "                arr[i][j] = cnt\n",
    "            cnt = cnt+1\n",
    "    \n",
    "            \n",
    "    for i in range(0,n):\n",
    "        for j in range(0,n):\n",
    "            print(\"%2d\" %arr[i][j], end = \" \")\n",
    "        print()"
   ]
  },
  {
   "cell_type": "code",
   "execution_count": null,
   "metadata": {},
   "outputs": [],
   "source": []
  },
  {
   "cell_type": "code",
   "execution_count": null,
   "metadata": {},
   "outputs": [],
   "source": []
  }
 ],
 "metadata": {
  "kernelspec": {
   "display_name": "Python 3",
   "language": "python",
   "name": "python3"
  },
  "language_info": {
   "codemirror_mode": {
    "name": "ipython",
    "version": 3
   },
   "file_extension": ".py",
   "mimetype": "text/x-python",
   "name": "python",
   "nbconvert_exporter": "python",
   "pygments_lexer": "ipython3",
   "version": "3.7.6"
  }
 },
 "nbformat": 4,
 "nbformat_minor": 4
}
